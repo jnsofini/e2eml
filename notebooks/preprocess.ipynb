{
 "cells": [
  {
   "cell_type": "markdown",
   "metadata": {},
   "source": [
    "# Manual Binning\n",
    "In this notebook we explore the binning of features as a manual process. These features have been binned before using an automated process. Right now we want to get the manually experiment to see if we can get better bins than those gotten from the automated process. Before we start, we want to get the results obtained from the previous automated process to remind ourselves of what was obtained in the automated process."
   ]
  },
  {
   "cell_type": "code",
   "execution_count": 1,
   "metadata": {},
   "outputs": [],
   "source": [
    "import pandas as pd\n",
    "import numpy as np\n",
    "import pickle\n",
    "import json\n",
    "from optbinning import Scorecard, BinningProcess, OptimalBinning\n",
    "from sklearn.model_selection import train_test_split\n",
    "from sklearn.linear_model import LogisticRegression\n",
    "import os"
   ]
  },
  {
   "cell_type": "markdown",
   "metadata": {},
   "source": [
    "Packages"
   ]
  },
  {
   "cell_type": "code",
   "execution_count": 2,
   "metadata": {},
   "outputs": [],
   "source": [
    "pd.set_option(\"display.max_rows\", None)\n",
    "pd.set_option(\"display.max_columns\", None)"
   ]
  },
  {
   "cell_type": "code",
   "execution_count": 3,
   "metadata": {},
   "outputs": [],
   "source": [
    "## Data Resources paths\n",
    "BASE_PATH = \"path-to/e2eML/data\""
   ]
  },
  {
   "cell_type": "code",
   "execution_count": 5,
   "metadata": {},
   "outputs": [],
   "source": [
    "# Load the binning process\n",
    "automated_binning_process = BinningProcess.load(os.path.join(BASE_PATH, \"binning-transformer.pkl\"))\n",
    "# automated_binning_process.variable_names"
   ]
  },
  {
   "cell_type": "markdown",
   "metadata": {},
   "source": [
    "### Visualize the binning object from automated binning.\n",
    "Here we want to start by checking what the results of binning looks like for automatic binned variables"
   ]
  },
  {
   "cell_type": "code",
   "execution_count": 6,
   "metadata": {},
   "outputs": [],
   "source": [
    "from ipywidgets import interact, Dropdown"
   ]
  },
  {
   "cell_type": "code",
   "execution_count": 7,
   "metadata": {},
   "outputs": [],
   "source": [
    "def feature_viz(feature=\"churn\"):\n",
    "    \"\"\" \n",
    "    Extracts features from binning object and display their results.\n",
    "\n",
    "    The function extracts features and provide a dropdown to select\n",
    "    the feature to observe and display the binning results.\n",
    "    \"\"\"\n",
    "    binning_obj = automated_binning_process.get_binned_variable(feature)\n",
    "    binning_table = binning_obj.binning_table\n",
    "    formatted_table = binning_table.build().iloc[:-1 , :]\n",
    "    formatted_table = formatted_table.assign(\n",
    "        WOE_Diff = formatted_table[\"WoE\"].replace({\"\": 0}).astype(\"float\").diff().round(2),\n",
    "        IV_SUM = formatted_table[\"IV\"].astype(\"float\").sum().round(2)\n",
    "        )\n",
    "    # print(formatted_table)\n",
    "    binning_table.plot(metric=\"woe\")\n",
    "    binning_table.plot(metric=\"event_rate\")\n",
    "    return formatted_table"
   ]
  },
  {
   "cell_type": "code",
   "execution_count": 8,
   "metadata": {},
   "outputs": [
    {
     "data": {
      "application/vnd.jupyter.widget-view+json": {
       "model_id": "ceaca6ea285742fb81df614d506aa7d2",
       "version_major": 2,
       "version_minor": 0
      },
      "text/plain": [
       "interactive(children=(Dropdown(description='feature', options=('gender', 'seniorcitizen', 'partner', 'dependen…"
      ]
     },
     "metadata": {},
     "output_type": "display_data"
    }
   ],
   "source": [
    "interact(feature_viz, feature=automated_binning_process.variable_names);"
   ]
  }
 ],
 "metadata": {
  "kernelspec": {
   "display_name": "Python 3.8.13 ('eda')",
   "language": "python",
   "name": "python3"
  },
  "language_info": {
   "codemirror_mode": {
    "name": "ipython",
    "version": 3
   },
   "file_extension": ".py",
   "mimetype": "text/x-python",
   "name": "python",
   "nbconvert_exporter": "python",
   "pygments_lexer": "ipython3",
   "version": "3.8.13"
  },
  "orig_nbformat": 4,
  "vscode": {
   "interpreter": {
    "hash": "949509eaf86eca253b4c01c43139ca80f6259b233ef171e78764e29ed689f836"
   }
  }
 },
 "nbformat": 4,
 "nbformat_minor": 2
}
