{
 "cells": [
  {
   "cell_type": "markdown",
   "metadata": {},
   "source": [
    "# Feature Selection"
   ]
  },
  {
   "cell_type": "markdown",
   "metadata": {},
   "source": [
    "#### Feature Selection\n",
    "\n",
    "The purpose of this notebook is to reduce the number of features in our model. We use scikit [recursive feature elimination](https://scikit-learn.org/stable/modules/generated/sklearn.feature_selection.RFE.html) to determine which combination of our top 24 features (found in `features.py`) should be used for development."
   ]
  },
  {
   "cell_type": "markdown",
   "metadata": {
    "collapsed": false,
    "pycharm": {
     "name": "#%% md\n"
    }
   },
   "source": [
    "#### Environment setup\n",
    "\n",
    "This notebook should run against our general-purpose `eda` environment."
   ]
  },
  {
   "cell_type": "code",
   "execution_count": null,
   "metadata": {},
   "outputs": [],
   "source": [
    "import pandas as pd\n",
    "from sklearn.linear_model import LogisticRegression\n",
    "from sklearn.feature_selection import RFE\n",
    "from sklearn.pipeline import Pipeline\n",
    "from sklearn.preprocessing import StandardScaler\n",
    "from optbinning.scorecard import plot_auc_roc, plot_cap, plot_ks\n",
    "from sklearn.preprocessing import MinMaxScaler\n",
    "from sklearn.cluster import KMeans\n",
    "from optbinning import BinningProcess\n",
    "\n",
    "pd.options.display.max_columns = None\n"
   ]
  },
  {
   "cell_type": "markdown",
   "metadata": {
    "pycharm": {
     "name": "#%% md\n"
    }
   },
   "source": [
    "\n",
    "## 1. Get the data\n",
    "\n",
    "Let's take a look at our raw data."
   ]
  },
  {
   "cell_type": "code",
   "execution_count": null,
   "metadata": {},
   "outputs": [],
   "source": [
    "data_path = \"/home/modelling/users-workspace/nsofinij/lab/mlzc/e2eML/data/transform-data.parquet\"\n",
    "\n",
    "raw_data = pd.read_parquet(data_path)#.drop(columns = [\"customerid\", \"Unnamed: 0\"])\n",
    "raw_data.head()"
   ]
  },
  {
   "cell_type": "code",
   "execution_count": null,
   "metadata": {},
   "outputs": [],
   "source": [
    "raw_data.max()"
   ]
  },
  {
   "cell_type": "code",
   "execution_count": null,
   "metadata": {},
   "outputs": [],
   "source": [
    "def get_iv_from_binning_obj(path):\n",
    "    iv_table = BinningProcess.load(path).summary()\n",
    "    iv_table[\"iv\"] = iv_table[\"iv\"].astype(\"float\").round(3)\n",
    "    return iv_table[[\"iv\", \"name\", \"n_bins\"]]"
   ]
  },
  {
   "cell_type": "code",
   "execution_count": null,
   "metadata": {},
   "outputs": [],
   "source": [
    "path_bin_obj = \"/home/modelling/users-workspace/nsofinij/lab/mlzc/e2eML/data/binning-transformer.pkl\"\n",
    "iv_table = get_iv_from_binning_obj(path_bin_obj)"
   ]
  },
  {
   "cell_type": "code",
   "execution_count": null,
   "metadata": {},
   "outputs": [],
   "source": [
    "def filter_iv_table(iv_table, iv_cutoff=0.02, min_n_bins=2):\n",
    "    # Filter based on IV and min_number of bins\n",
    "    return iv_table.query(f\"n_bins >= {min_n_bins} and iv >= {iv_cutoff}\").name.values"
   ]
  },
  {
   "cell_type": "code",
   "execution_count": null,
   "metadata": {},
   "outputs": [],
   "source": [
    "modelling_features = filter_iv_table(iv_table, iv_cutoff=0.02, min_n_bins=2)"
   ]
  },
  {
   "cell_type": "code",
   "execution_count": null,
   "metadata": {},
   "outputs": [],
   "source": [
    "len(modelling_features)"
   ]
  },
  {
   "cell_type": "code",
   "execution_count": null,
   "metadata": {},
   "outputs": [],
   "source": [
    "from sklearn.cluster import KMeans\n",
    "from sklearn import metrics\n",
    "from scipy.spatial.distance import cdist\n",
    "import numpy as np\n",
    "import matplotlib.pyplot as plt\n"
   ]
  },
  {
   "cell_type": "code",
   "execution_count": null,
   "metadata": {},
   "outputs": [],
   "source": [
    "\n",
    "distortions = []\n",
    "inertias = []\n",
    "mapping1 = {}\n",
    "mapping2 = {}\n",
    "K = range(1, 15)\n",
    "\n",
    "X = raw_data[modelling_features].T\n",
    "\n",
    "print(X.shape)\n",
    "  \n",
    "for k in K:\n",
    "    # Building and fitting the model\n",
    "    kmeanModel = KMeans(n_clusters=k).fit(X)\n",
    "    # kmeanModel.fit(X)\n",
    "  \n",
    "    distortions.append(sum(np.min(cdist(X, kmeanModel.cluster_centers_,\n",
    "                                        'euclidean'), axis=1)) / X.shape[0])\n",
    "    inertias.append(kmeanModel.inertia_)\n",
    "  \n",
    "    mapping1[k] = sum(np.min(cdist(X, kmeanModel.cluster_centers_,\n",
    "                                   'euclidean'), axis=1)) / X.shape[0]\n",
    "    mapping2[k] = kmeanModel.inertia_\n",
    "\n",
    "plt.plot(K, distortions, 'bx-')\n",
    "plt.xlabel('Values of K')\n",
    "plt.ylabel('Distortion')\n",
    "plt.title('The Elbow Method using Distortion')\n",
    "plt.show()"
   ]
  },
  {
   "cell_type": "code",
   "execution_count": null,
   "metadata": {},
   "outputs": [],
   "source": [
    "frame = pd.DataFrame({'Cluster':K, 'SSE':inertias})\n",
    "plt.figure(figsize=(12,6))\n",
    "plt.plot(frame['Cluster'], frame['SSE'], marker='o')\n",
    "plt.xlabel('Number of clusters')\n",
    "plt.ylabel('Inertia')"
   ]
  },
  {
   "cell_type": "code",
   "execution_count": null,
   "metadata": {},
   "outputs": [],
   "source": [
    "X = raw_data[modelling_features].T\n",
    "kmeans = KMeans(n_clusters = 8, init='k-means++')\n",
    "kmeans.fit(X)\n"
   ]
  },
  {
   "cell_type": "code",
   "execution_count": null,
   "metadata": {},
   "outputs": [],
   "source": [
    "cluster_class = pd.DataFrame(\n",
    "    {\n",
    "        \"feature\": modelling_features, \n",
    "        \"cluster\": kmeans.predict(X)\n",
    "        }\n",
    "    ).sort_values(by=\"cluster\")\n",
    "cluster_class"
   ]
  },
  {
   "cell_type": "code",
   "execution_count": null,
   "metadata": {},
   "outputs": [],
   "source": []
  },
  {
   "cell_type": "markdown",
   "metadata": {},
   "source": [
    "Explore the clusters"
   ]
  },
  {
   "cell_type": "code",
   "execution_count": null,
   "metadata": {},
   "outputs": [],
   "source": [
    "r_square_ratio = []\n",
    "r_square_own = []\n",
    "r_square_nc = []\n",
    "for i, l in enumerate(kmeans.labels_):\n",
    "    centroid = kmeans.cluster_centers_[l]\n",
    "    # print(centroid.shape, X.values[0].shape)\n",
    "    rsq_own = np.corrcoef(X.values[i], centroid)[0, 1]**2 \n",
    "    rsq_nc = np.max(\n",
    "        [np.corrcoef(X.values[i], kmeans.cluster_centers_[j])[0, 1]**2 for j in set(kmeans.labels_) if j!=l]\n",
    "    )\n",
    "    # print(X[i].values)\n",
    "    # print(rsq)\n",
    "    # print(f\"R_Ratio={(1-rsq)/(1-rsq_other_cluster)}\")\n",
    "    r_square_own.append(rsq_own)\n",
    "    r_square_nc.append(rsq_nc)\n",
    "    r_square_ratio.append((1-rsq_own)/(1-rsq_nc))"
   ]
  },
  {
   "cell_type": "code",
   "execution_count": null,
   "metadata": {},
   "outputs": [],
   "source": [
    "t3 = cluster_class.assign(\n",
    "    rsq_ratio=r_square_ratio,\n",
    "    r_square_own=r_square_own,\n",
    "    r_square_nc=r_square_nc\n",
    "    ).sort_values(by=[\"cluster\", \"rsq_ratio\"]).round(2)"
   ]
  },
  {
   "cell_type": "code",
   "execution_count": null,
   "metadata": {},
   "outputs": [],
   "source": [
    "t3.head()"
   ]
  },
  {
   "cell_type": "code",
   "execution_count": null,
   "metadata": {},
   "outputs": [],
   "source": [
    "iv_table.head()"
   ]
  },
  {
   "cell_type": "code",
   "execution_count": null,
   "metadata": {},
   "outputs": [],
   "source": [
    "rsq_iv_table = pd.merge(\n",
    "    t3,\n",
    "    iv_table.rename(columns={\"name\":\"feature\"}),\n",
    "    on=\"feature\"\n",
    ")\n",
    "rsq_iv_table"
   ]
  },
  {
   "cell_type": "code",
   "execution_count": null,
   "metadata": {},
   "outputs": [],
   "source": [
    "from scipy.cluster.hierarchy import dendrogram, linkage\n",
    "from sklearn.cluster import AgglomerativeClustering"
   ]
  },
  {
   "cell_type": "code",
   "execution_count": null,
   "metadata": {},
   "outputs": [],
   "source": [
    "linkage_data = linkage(X, method='ward', metric='euclidean')"
   ]
  },
  {
   "cell_type": "code",
   "execution_count": null,
   "metadata": {},
   "outputs": [],
   "source": [
    "dendrogram(linkage_data)\n",
    "plt.show()"
   ]
  },
  {
   "cell_type": "code",
   "execution_count": null,
   "metadata": {},
   "outputs": [],
   "source": [
    "from sklearn.cluster import AgglomerativeClustering"
   ]
  },
  {
   "cell_type": "code",
   "execution_count": null,
   "metadata": {},
   "outputs": [],
   "source": [
    "agc_clustering = AgglomerativeClustering(n_clusters=5).fit(X)"
   ]
  },
  {
   "cell_type": "code",
   "execution_count": null,
   "metadata": {},
   "outputs": [],
   "source": [
    "agc_clustering.labels_"
   ]
  },
  {
   "cell_type": "code",
   "execution_count": null,
   "metadata": {},
   "outputs": [],
   "source": [
    "t = pd.DataFrame({\"feature\": modelling_features, \"km_cluster\": pred, \"ag_clusters\":agc_clustering.labels_}).sort_values(by=\"km_cluster\")\n",
    "# t['clusters'] = t"
   ]
  },
  {
   "cell_type": "code",
   "execution_count": null,
   "metadata": {},
   "outputs": [],
   "source": [
    "t[\"ag_clusters2\"] = t[\"ag_clusters\"].replace({3:0, 4:1, 0:2, 2:4})"
   ]
  },
  {
   "cell_type": "markdown",
   "metadata": {
    "pycharm": {
     "name": "#%% md\n"
    }
   },
   "source": [
    "## 2. Logistic Regression"
   ]
  },
  {
   "cell_type": "code",
   "execution_count": null,
   "metadata": {},
   "outputs": [],
   "source": [
    "logistic_regression = LogisticRegression(\n",
    "    C=3, max_iter=1000, random_state=42\n",
    ")\n",
    "\n",
    "binning_process = util.setup_binning(\n",
    "    model_data,\n",
    "    features=features.all_features,\n",
    "    params=features.binning_params\n",
    "    )"
   ]
  },
  {
   "cell_type": "markdown",
   "metadata": {
    "collapsed": false,
    "pycharm": {
     "name": "#%% md\n"
    }
   },
   "source": [
    "## 3. Get a working scorecard"
   ]
  },
  {
   "cell_type": "code",
   "execution_count": null,
   "metadata": {
    "collapsed": false,
    "pycharm": {
     "name": "#%%\n"
    }
   },
   "outputs": [],
   "source": [
    "scorecard = util.estimator(binning_process, method=logistic_regression)\n",
    "\n",
    "target = \"B1_DEFLT_IN_12MO_PERF_WNDW_IND\"\n",
    "X = model_data.drop(target, axis=1)\n",
    "y = model_data[target].astype('int8')\n",
    "\n",
    "X.fillna(0, inplace=True)\n",
    "\n",
    "scorecard.fit(X, y)"
   ]
  },
  {
   "cell_type": "markdown",
   "metadata": {
    "collapsed": false
   },
   "source": [
    "Our initial scorecard table is as follows:"
   ]
  },
  {
   "cell_type": "code",
   "execution_count": null,
   "metadata": {
    "collapsed": false,
    "pycharm": {
     "name": "#%%\n"
    }
   },
   "outputs": [],
   "source": [
    "t = scorecard.table(style=\"detailed\").round(3)\n",
    "t.head()"
   ]
  },
  {
   "cell_type": "markdown",
   "metadata": {
    "collapsed": false,
    "pycharm": {
     "name": "#%% md\n"
    }
   },
   "source": [
    "The IV values for our features are as follows:"
   ]
  },
  {
   "cell_type": "code",
   "execution_count": null,
   "metadata": {
    "collapsed": false,
    "pycharm": {
     "name": "#%%\n"
    }
   },
   "outputs": [],
   "source": [
    "t.groupby('Variable')['IV'].sum().sort_values()"
   ]
  },
  {
   "cell_type": "markdown",
   "metadata": {
    "collapsed": false,
    "pycharm": {
     "name": "#%% md\n"
    }
   },
   "source": [
    "## 4. Selecting the best features using RFE"
   ]
  },
  {
   "cell_type": "code",
   "execution_count": null,
   "metadata": {
    "collapsed": false,
    "pycharm": {
     "name": "#%%\n"
    }
   },
   "outputs": [],
   "source": [
    "binning_process.fit(X, y)\n",
    "\n",
    "X_transform = binning_process.transform(X)\n",
    "\n",
    "binning_logreg_estimator = Pipeline(\n",
    "    steps=[(\"binning_process\", binning_process), (\"regressor\", LogisticRegression())]\n",
    ")\n",
    "binning_logreg_estimator.fit(X, y)"
   ]
  },
  {
   "cell_type": "markdown",
   "metadata": {
    "collapsed": false,
    "pycharm": {
     "name": "#%% md\n"
    }
   },
   "source": [
    "We are using recursive feature elimination."
   ]
  },
  {
   "cell_type": "code",
   "execution_count": null,
   "metadata": {
    "collapsed": false,
    "pycharm": {
     "name": "#%%\n"
    }
   },
   "outputs": [],
   "source": [
    "rfe = RFE(\n",
    "    estimator= LogisticRegression(), n_features_to_select=4\n",
    ")\n",
    "rfe.fit(X_transform, y)"
   ]
  },
  {
   "cell_type": "code",
   "execution_count": null,
   "metadata": {
    "collapsed": false,
    "pycharm": {
     "name": "#%%\n"
    }
   },
   "outputs": [],
   "source": [
    "feature_pipeline = Pipeline(\n",
    "    steps=[(\"rfe\", rfe), (\"regressor\", logistic_regression)]\n",
    ")\n",
    "feature_pipeline.fit(X_transform, y)"
   ]
  },
  {
   "cell_type": "markdown",
   "metadata": {
    "collapsed": false,
    "pycharm": {
     "name": "#%% md\n"
    }
   },
   "source": [
    "Let's see what features were selected."
   ]
  },
  {
   "cell_type": "code",
   "execution_count": null,
   "metadata": {
    "collapsed": false,
    "pycharm": {
     "name": "#%%\n"
    }
   },
   "outputs": [],
   "source": [
    "feature_pipeline[:-1].get_feature_names_out()"
   ]
  },
  {
   "cell_type": "markdown",
   "metadata": {
    "collapsed": false,
    "pycharm": {
     "name": "#%% md\n"
    }
   },
   "source": [
    "## 5. Create a model with RFE selected features\n",
    "\n",
    "Below, we are repeating our process for creating a logistic regression model. Here we use the features that we selected in the last section. "
   ]
  },
  {
   "cell_type": "code",
   "execution_count": null,
   "metadata": {
    "collapsed": false,
    "pycharm": {
     "name": "#%%\n"
    }
   },
   "outputs": [],
   "source": [
    "rfe_selected_features = feature_pipeline[:-1].get_feature_names_out()\n",
    "rfe_subset_data = model_data[list(rfe_selected_features) + [target]]\n",
    "\n",
    "log_reg = LogisticRegression(\n",
    "    C=3, max_iter=1000, random_state=42\n",
    ")\n",
    "\n",
    "rfe_binning_params = {\n",
    "    col: values for col, values in features.binning_params.items() if col in rfe_selected_features\n",
    "}\n",
    "\n",
    "binning_process_rfe = util.setup_binning(\n",
    "    rfe_subset_data,\n",
    "    features = list(rfe_selected_features),\n",
    "    params=rfe_binning_params\n",
    "    )\n",
    "\n",
    "scorecard_rfe = util.estimator(binning_process_rfe,\n",
    "                      method=log_reg)\n",
    "\n",
    "target = \"B1_DEFLT_IN_12MO_PERF_WNDW_IND\"\n",
    "X_rfe = rfe_subset_data.drop(target, axis=1)\n",
    "y_rfe = rfe_subset_data[target].astype('int8')\n",
    "\n",
    "X_rfe.fillna(0, inplace=True)\n",
    "\n",
    "scorecard_rfe.fit(X_rfe, y_rfe)"
   ]
  },
  {
   "cell_type": "code",
   "execution_count": null,
   "metadata": {
    "collapsed": false,
    "pycharm": {
     "name": "#%%\n"
    }
   },
   "outputs": [],
   "source": [
    "t=scorecard_rfe.table(style=\"detailed\").round(3)\n",
    "t.head()"
   ]
  },
  {
   "cell_type": "markdown",
   "metadata": {
    "collapsed": false,
    "pycharm": {
     "name": "#%% md\n"
    }
   },
   "source": [
    "Let's see the features and information values."
   ]
  },
  {
   "cell_type": "code",
   "execution_count": null,
   "metadata": {
    "collapsed": false,
    "pycharm": {
     "name": "#%%\n"
    }
   },
   "outputs": [],
   "source": [
    "t.groupby('Variable')['IV'].sum().sort_values()"
   ]
  },
  {
   "cell_type": "markdown",
   "metadata": {
    "collapsed": false,
    "pycharm": {
     "name": "#%% md\n"
    }
   },
   "source": [
    "## 6. Evaluation"
   ]
  },
  {
   "cell_type": "code",
   "execution_count": null,
   "metadata": {
    "collapsed": false,
    "pycharm": {
     "name": "#%%\n"
    }
   },
   "outputs": [],
   "source": [
    "y_pred = scorecard_rfe.predict_proba(X)[:, 1]\n",
    "plot_auc_roc(y, y_pred)"
   ]
  },
  {
   "cell_type": "code",
   "execution_count": null,
   "metadata": {
    "collapsed": false,
    "pycharm": {
     "name": "#%%\n"
    }
   },
   "outputs": [],
   "source": [
    "plot_cap(y, y_pred)"
   ]
  },
  {
   "cell_type": "code",
   "execution_count": null,
   "metadata": {
    "collapsed": false,
    "pycharm": {
     "name": "#%%\n"
    }
   },
   "outputs": [],
   "source": [
    "plot_ks(y, y_pred)"
   ]
  }
 ],
 "metadata": {
  "kernelspec": {
   "display_name": "Python 3.8.13 ('eda': conda)",
   "language": "python",
   "name": "python3"
  },
  "language_info": {
   "codemirror_mode": {
    "name": "ipython",
    "version": 3
   },
   "file_extension": ".py",
   "mimetype": "text/x-python",
   "name": "python",
   "nbconvert_exporter": "python",
   "pygments_lexer": "ipython3",
   "version": "3.8.13"
  },
  "orig_nbformat": 4,
  "vscode": {
   "interpreter": {
    "hash": "949509eaf86eca253b4c01c43139ca80f6259b233ef171e78764e29ed689f836"
   }
  }
 },
 "nbformat": 4,
 "nbformat_minor": 2
}
